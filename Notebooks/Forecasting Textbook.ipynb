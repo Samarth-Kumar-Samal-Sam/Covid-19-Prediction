{
 "cells": [
  {
   "cell_type": "markdown",
   "id": "5c9b1ca1-2052-4a56-8959-6f39393a4b7f",
   "metadata": {},
   "source": [
    "#### Importing Python Libraries"
   ]
  },
  {
   "cell_type": "code",
   "execution_count": null,
   "id": "49b1f419-1827-4b0c-aa85-67557a4acfac",
   "metadata": {},
   "outputs": [],
   "source": [
    "import numpy as np\n",
    "import pandas as pd\n",
    "import matplotlib.pyplot as plt\n",
    "import plotly.express as px\n",
    "import plotly.graph_objects as pgo\n",
    "import warnings\n",
    "warnings.filterwarnings('ignore')\n",
    "from prophet import Prophet\n",
    "from prophet.plot import plot_plotly"
   ]
  },
  {
   "cell_type": "markdown",
   "id": "e5baad19-aaef-44a1-b24a-16470b78c283",
   "metadata": {},
   "source": [
    "#### Loading the dataset"
   ]
  },
  {
   "cell_type": "code",
   "execution_count": null,
   "id": "6363e272-f3ab-42a3-827e-71a06f3069a5",
   "metadata": {},
   "outputs": [],
   "source": [
    "data = pd.read_csv('../Dataset/covid-19.csv')\n",
    "data.sample(10)"
   ]
  },
  {
   "cell_type": "markdown",
   "id": "dce862ac-ed75-4e49-8ece-765b89a027da",
   "metadata": {},
   "source": [
    "## Time Series Forecasting for confirmed cases in India"
   ]
  },
  {
   "cell_type": "markdown",
   "id": "6c99b3a5-8675-4c1d-9b59-aeb53a9e6378",
   "metadata": {},
   "source": [
    "#### Extracting the date and confirmed columns of India from original data"
   ]
  },
  {
   "cell_type": "code",
   "execution_count": null,
   "id": "4178aa90-560e-4725-97c2-9e933fa28be2",
   "metadata": {},
   "outputs": [],
   "source": [
    "india_data = data[data['Country']=='India'][['Date','Confirmed']]\n",
    "india_data"
   ]
  },
  {
   "cell_type": "markdown",
   "id": "c0007117-43ea-4461-97a9-65f408788e3f",
   "metadata": {},
   "source": [
    "#### Finding out the complete information of India data"
   ]
  },
  {
   "cell_type": "code",
   "execution_count": null,
   "id": "14fcc34b-869f-45a1-80d7-bceac774bb8b",
   "metadata": {},
   "outputs": [],
   "source": [
    "india_data.info()"
   ]
  },
  {
   "cell_type": "markdown",
   "id": "6cef061c-8ad3-4ea4-89f7-bdf20fd8c115",
   "metadata": {},
   "source": [
    "#### Ploting the confirmed cases with respect to time"
   ]
  },
  {
   "cell_type": "code",
   "execution_count": null,
   "id": "b995b19c-0dbf-4704-9ae7-47f2cfd729f3",
   "metadata": {},
   "outputs": [],
   "source": [
    "fig = px.line(india_data,x='Date',y='Confirmed',title=\"Time Series Graph for Confirmed Cases\")\n",
    "fig.show()"
   ]
  },
  {
   "cell_type": "markdown",
   "id": "9713778b-6417-4973-8095-a425b52a2035",
   "metadata": {},
   "source": [
    "#### Converting the date column of India data"
   ]
  },
  {
   "cell_type": "code",
   "execution_count": null,
   "id": "a6b750d6-0878-43bd-98ba-b16b5fbcf06c",
   "metadata": {},
   "outputs": [],
   "source": [
    "india_data['Date'] = pd.to_datetime(india_data['Date'])\n",
    "india_data.info()"
   ]
  },
  {
   "cell_type": "markdown",
   "id": "f186d9f8-17f5-480a-b238-12c4ce3af95e",
   "metadata": {},
   "source": [
    "#### Renaming the columns of the India data"
   ]
  },
  {
   "cell_type": "code",
   "execution_count": null,
   "id": "a9987331-7379-4ff4-b63a-b9ed8853745b",
   "metadata": {},
   "outputs": [],
   "source": [
    "india_data.rename(columns={'Date':'ds','Confirmed':'y'},inplace=True)\n",
    "india_data.info()"
   ]
  },
  {
   "cell_type": "markdown",
   "id": "0ced8c10-da3b-42da-941a-ae825b42bb59",
   "metadata": {},
   "source": [
    "#### Time Series Model"
   ]
  },
  {
   "cell_type": "code",
   "execution_count": null,
   "id": "bc90a1c6-c050-4fbc-9417-8ef810822fdb",
   "metadata": {},
   "outputs": [],
   "source": [
    "model = Prophet()\n",
    "model.fit(india_data)"
   ]
  },
  {
   "cell_type": "markdown",
   "id": "74ae6c0a-5282-4e6a-8442-00eef51ebe85",
   "metadata": {},
   "source": [
    "#### Creation of the future dates for next 1 year (365 days)"
   ]
  },
  {
   "cell_type": "code",
   "execution_count": null,
   "id": "bc266f49-a1b0-4432-8a77-3233f25a92ff",
   "metadata": {},
   "outputs": [],
   "source": [
    "future_pred = model.make_future_dataframe(periods=365)\n",
    "future_pred"
   ]
  },
  {
   "cell_type": "markdown",
   "id": "2f9e5721-3ecc-4b00-b159-65357d520adf",
   "metadata": {},
   "source": [
    "#### Comparing the number of rows of the original data and future data"
   ]
  },
  {
   "cell_type": "code",
   "execution_count": null,
   "id": "7303fd4a-c65d-4e68-9379-75089a2b61da",
   "metadata": {},
   "outputs": [],
   "source": [
    "print(f\"Original Dataset number of rows : {india_data.shape[0]}\")\n",
    "print(f\"Generated Future Dataset number of rows : {future_pred.shape[0]}\")"
   ]
  },
  {
   "cell_type": "code",
   "execution_count": null,
   "id": "8dc21a6d-bb55-41c8-a5d3-764bdb369a86",
   "metadata": {},
   "outputs": [],
   "source": [
    "model.component_modes"
   ]
  },
  {
   "cell_type": "markdown",
   "id": "300dd139-6e15-4020-baa1-a29fe2bf5a03",
   "metadata": {},
   "source": [
    "#### Prediction of the future data"
   ]
  },
  {
   "cell_type": "code",
   "execution_count": null,
   "id": "3f34a7c6-8688-4495-81ac-730370391804",
   "metadata": {},
   "outputs": [],
   "source": [
    "prediction = model.predict(future_pred)\n",
    "prediction.head(10)"
   ]
  },
  {
   "cell_type": "markdown",
   "id": "212fdb58-52e0-41ac-bd4f-130eea286f1d",
   "metadata": {},
   "source": [
    "#### Plotting the components of the predicted data"
   ]
  },
  {
   "cell_type": "code",
   "execution_count": null,
   "id": "d74138c6-eeef-4faf-badc-48328dd9b747",
   "metadata": {},
   "outputs": [],
   "source": [
    "fig = model.plot_components(prediction)\n",
    "plt.show()"
   ]
  },
  {
   "cell_type": "markdown",
   "id": "528772bb-5f7d-4330-b059-15579442c052",
   "metadata": {},
   "source": [
    "#### Plotting the forecast of the time series model"
   ]
  },
  {
   "cell_type": "code",
   "execution_count": null,
   "id": "6bd9299b-2d4b-4b30-ac38-c8ce97c020e2",
   "metadata": {},
   "outputs": [],
   "source": [
    "fig = plot_plotly(model,prediction,xlabel='Time',ylabel='Confirmed cases')\n",
    "fig.update_layout(title='Forecast graph of Time Series model')\n",
    "fig.show()"
   ]
  },
  {
   "cell_type": "markdown",
   "id": "844df3cc-2887-484b-8701-60265d3facf0",
   "metadata": {},
   "source": [
    "## Time Series Forecasting for Recovered cases in India"
   ]
  },
  {
   "cell_type": "markdown",
   "id": "581accfa-af6b-4f17-8f6f-589adbc1ba0f",
   "metadata": {},
   "source": [
    "#### Extracting date and recovered columns of India data from original data"
   ]
  },
  {
   "cell_type": "code",
   "execution_count": null,
   "id": "c1ee1d01-325b-487d-9f56-a3cb012a768b",
   "metadata": {},
   "outputs": [],
   "source": [
    "india_data = data[data['Country']=='India'][['Date','Recovered']]\n",
    "india_data"
   ]
  },
  {
   "cell_type": "markdown",
   "id": "767c9f02-78af-4962-bb2a-0e250f75a7b0",
   "metadata": {},
   "source": [
    "#### Finding out the complete information of India data"
   ]
  },
  {
   "cell_type": "code",
   "execution_count": null,
   "id": "19aac9db-781e-4cef-9ed9-0b3877bbfbcb",
   "metadata": {},
   "outputs": [],
   "source": [
    "india_data.info()"
   ]
  },
  {
   "cell_type": "markdown",
   "id": "287350c8-f683-4a31-a034-d73e4d02b83a",
   "metadata": {},
   "source": [
    "#### Plotting the recovered cases with respect to time"
   ]
  },
  {
   "cell_type": "code",
   "execution_count": null,
   "id": "ff50d9c7-314f-49ff-b230-757b9d01de36",
   "metadata": {},
   "outputs": [],
   "source": [
    "fig = px.line(india_data,x='Date',y='Recovered',title=\"Time Series Graph for Recovered Cases\")\n",
    "fig.show()"
   ]
  },
  {
   "cell_type": "markdown",
   "id": "f2b3055a-c220-4e9e-8c74-f5eebf47842a",
   "metadata": {},
   "source": [
    "#### Converting the date column of India data"
   ]
  },
  {
   "cell_type": "code",
   "execution_count": null,
   "id": "9677c7a6-38ef-449a-975c-1d900bc9e2a5",
   "metadata": {},
   "outputs": [],
   "source": [
    "india_data['Date'] = pd.to_datetime(india_data['Date'])\n",
    "india_data.info()"
   ]
  },
  {
   "cell_type": "markdown",
   "id": "a4fe531c-b92f-446a-88eb-ec72f4c75ba6",
   "metadata": {},
   "source": [
    "#### Renaming the columns of India data"
   ]
  },
  {
   "cell_type": "code",
   "execution_count": null,
   "id": "8583caea-4b9a-4d45-9619-bd5abd46de41",
   "metadata": {},
   "outputs": [],
   "source": [
    "india_data.rename(columns={'Date' : 'ds','Recovered' : 'y'},inplace=True)\n",
    "india_data.info()"
   ]
  },
  {
   "cell_type": "markdown",
   "id": "c2823518-938f-49f0-88ad-4404fa5d5c34",
   "metadata": {},
   "source": [
    "#### Time Series Model"
   ]
  },
  {
   "cell_type": "code",
   "execution_count": null,
   "id": "21336073-29fe-44b1-b060-b5ff7e2785ab",
   "metadata": {},
   "outputs": [],
   "source": [
    "model = Prophet()\n",
    "model.fit(india_data)"
   ]
  },
  {
   "cell_type": "markdown",
   "id": "1a0c01b9-c6d7-4c51-9cde-ef576aab7fa6",
   "metadata": {},
   "source": [
    "#### Creation of future dates for next 1 year (365 days)"
   ]
  },
  {
   "cell_type": "code",
   "execution_count": null,
   "id": "40bb85ed-5d0c-4dc2-85b9-0610459cadbf",
   "metadata": {},
   "outputs": [],
   "source": [
    "future = model.make_future_dataframe(periods=365)\n",
    "future"
   ]
  },
  {
   "cell_type": "markdown",
   "id": "87fc5670-2ab1-4ecc-b7eb-e822958b8490",
   "metadata": {},
   "source": [
    "#### Comparing the number of rows of the original data and future data"
   ]
  },
  {
   "cell_type": "code",
   "execution_count": null,
   "id": "0a040e2d-9fb3-451e-ba29-5f09147c4679",
   "metadata": {},
   "outputs": [],
   "source": [
    "print(f\"Original Dataset number of rows : {india_data.shape[0]}\")\n",
    "print(f\"Generated Future Dataset number of rows : {future.shape[0]}\")"
   ]
  },
  {
   "cell_type": "code",
   "execution_count": null,
   "id": "232bc2e8-23a4-4dd7-bd3e-b4b42673547b",
   "metadata": {},
   "outputs": [],
   "source": [
    "model.component_modes"
   ]
  },
  {
   "cell_type": "markdown",
   "id": "47fd2991-f37d-43b5-a4b0-494490b821b5",
   "metadata": {},
   "source": [
    "#### Prediction of the future data"
   ]
  },
  {
   "cell_type": "code",
   "execution_count": null,
   "id": "f54029ae-f536-4f4d-af70-d90c5fa70e58",
   "metadata": {},
   "outputs": [],
   "source": [
    "prediction = model.predict(future)\n",
    "prediction.head(10)"
   ]
  },
  {
   "cell_type": "markdown",
   "id": "921d513f-a7fd-4486-b77d-b0fe5aa47911",
   "metadata": {},
   "source": [
    "#### Plotting the components of the predicted data"
   ]
  },
  {
   "cell_type": "code",
   "execution_count": null,
   "id": "1946e7bf-573e-4cbe-bb39-3b5ad72d41b6",
   "metadata": {},
   "outputs": [],
   "source": [
    "fig = model.plot_components(prediction)\n",
    "fig.show()"
   ]
  },
  {
   "cell_type": "markdown",
   "id": "0fa84308-8d98-42fe-8486-b2733c1f529f",
   "metadata": {},
   "source": [
    "#### Plotting the forecast of the Time Series model"
   ]
  },
  {
   "cell_type": "code",
   "execution_count": null,
   "id": "290b3818-f6d8-4694-9acb-28b148ced60b",
   "metadata": {},
   "outputs": [],
   "source": [
    "fig = plot_plotly(model,prediction,xlabel='Time',ylabel='Recovered Cases')\n",
    "fig.update_layout(title='Forecast graph of Time Series Model')\n",
    "fig.show()"
   ]
  },
  {
   "cell_type": "markdown",
   "id": "bb991e2c-8beb-4bd2-8f2d-e82badf41c37",
   "metadata": {},
   "source": [
    "## Time Series Forecasting for death cases in India"
   ]
  },
  {
   "cell_type": "markdown",
   "id": "3f4f2120-3c95-4fb6-bb23-ffacfc2efbdc",
   "metadata": {},
   "source": [
    "#### Extracting the date and death colums of India data"
   ]
  },
  {
   "cell_type": "code",
   "execution_count": null,
   "id": "2949e66d-1855-45c5-8774-125edb1880ed",
   "metadata": {},
   "outputs": [],
   "source": [
    "india_data = data[data['Country']=='India'][['Date','Deaths']]\n",
    "india_data"
   ]
  },
  {
   "cell_type": "markdown",
   "id": "89ba83eb-a59b-4b6c-b0e2-5faaef6b4529",
   "metadata": {},
   "source": [
    "#### Finding out the complete information of the India data"
   ]
  },
  {
   "cell_type": "code",
   "execution_count": null,
   "id": "b8425e6c-ab28-4e06-a872-59cc4fa0fe6f",
   "metadata": {},
   "outputs": [],
   "source": [
    "india_data.info()"
   ]
  },
  {
   "cell_type": "markdown",
   "id": "726c2f41-6603-4e93-9eea-f23450984f63",
   "metadata": {},
   "source": [
    "#### Plotting the death cases with respect to time"
   ]
  },
  {
   "cell_type": "code",
   "execution_count": null,
   "id": "80ca5afc-f98b-42e3-b1fb-2bb36a999d0c",
   "metadata": {},
   "outputs": [],
   "source": [
    "fig = px.line(india_data,x='Date',y='Deaths',title=\"Time Series Graph for Death Cases\")\n",
    "fig.show()"
   ]
  },
  {
   "cell_type": "markdown",
   "id": "5b9a53ee-2a39-43d5-ab86-ec1e3fad848b",
   "metadata": {},
   "source": [
    "#### Converting the date column of India data"
   ]
  },
  {
   "cell_type": "code",
   "execution_count": null,
   "id": "cf8bb1ab-f4d8-46b4-85c2-6b937b8d3740",
   "metadata": {},
   "outputs": [],
   "source": [
    "india_data['Date'] = pd.to_datetime(india_data['Date'])\n",
    "india_data.info()"
   ]
  },
  {
   "cell_type": "markdown",
   "id": "0ab343d3-6a03-4507-8cfb-ca559ac78498",
   "metadata": {},
   "source": [
    "#### Renaming the columns of India data"
   ]
  },
  {
   "cell_type": "code",
   "execution_count": null,
   "id": "60a64b6c-b65c-4114-915c-f8037b6ac5f6",
   "metadata": {},
   "outputs": [],
   "source": [
    "india_data.rename(columns={'Date' : 'ds','Deaths' : 'y'},inplace=True)\n",
    "india_data.info()"
   ]
  },
  {
   "cell_type": "markdown",
   "id": "1f50bcb2-1b00-4477-86ae-703cfd904fa5",
   "metadata": {},
   "source": [
    "#### Time Series Model"
   ]
  },
  {
   "cell_type": "code",
   "execution_count": null,
   "id": "b1b58d0d-d7a8-4f89-9132-634c4debe1b8",
   "metadata": {},
   "outputs": [],
   "source": [
    "model = Prophet()\n",
    "model.fit(india_data)"
   ]
  },
  {
   "cell_type": "markdown",
   "id": "cd55eb83-9dea-4cf5-82e5-f60ec816fc47",
   "metadata": {},
   "source": [
    "#### Creation of the Future Dates for next 1 year (365 days)"
   ]
  },
  {
   "cell_type": "code",
   "execution_count": null,
   "id": "f95592e0-7bb1-41de-a0c2-c59fcf7506e9",
   "metadata": {},
   "outputs": [],
   "source": [
    "future = model.make_future_dataframe(periods=365)\n",
    "future"
   ]
  },
  {
   "cell_type": "markdown",
   "id": "a1e75577-378c-4f56-93bf-689653bf18da",
   "metadata": {},
   "source": [
    "#### Comparing the number of rows of the original data and future data"
   ]
  },
  {
   "cell_type": "code",
   "execution_count": null,
   "id": "72e98740-8c94-41ee-885c-24719a922cdc",
   "metadata": {},
   "outputs": [],
   "source": [
    "print(f\"Original Dataset number of rows : {india_data.shape[0]}\")\n",
    "print(f\"Generated Future Dataset number of rows : {future.shape[0]}\")"
   ]
  },
  {
   "cell_type": "code",
   "execution_count": null,
   "id": "bca4bd92-2520-4138-8c74-516e4a3cbbda",
   "metadata": {},
   "outputs": [],
   "source": [
    "model.component_modes"
   ]
  },
  {
   "cell_type": "markdown",
   "id": "9d69caf2-c82e-42d2-a5c1-2fda4e3d692d",
   "metadata": {},
   "source": [
    "#### Prediction of the future data"
   ]
  },
  {
   "cell_type": "code",
   "execution_count": null,
   "id": "e3f7681e-823d-4d9d-8cac-98a7bac02439",
   "metadata": {},
   "outputs": [],
   "source": [
    "prediction = model.predict(future)\n",
    "prediction.head()"
   ]
  },
  {
   "cell_type": "markdown",
   "id": "72473a01-35ef-4099-b011-55f7dcc446f1",
   "metadata": {},
   "source": [
    "#### Plotting the components of the predicited data"
   ]
  },
  {
   "cell_type": "code",
   "execution_count": null,
   "id": "d5b56be5-af04-42c7-9413-45b36a888ea7",
   "metadata": {},
   "outputs": [],
   "source": [
    "fig = model.plot_components(prediction)\n",
    "fig.show()"
   ]
  },
  {
   "cell_type": "markdown",
   "id": "69b89966-e2c1-4dfa-8b06-26c1c7827308",
   "metadata": {},
   "source": [
    "#### Plotting the forecast of the Time Series model"
   ]
  },
  {
   "cell_type": "code",
   "execution_count": null,
   "id": "4cfb03e4-7e32-43ae-864a-c5f5ca7718e0",
   "metadata": {},
   "outputs": [],
   "source": [
    "fig = plot_plotly(model,prediction,xlabel='Time',ylabel='Death Cases')\n",
    "fig.update_layout(title='Forecast graph of Time Series Model')\n",
    "fig.show()"
   ]
  }
 ],
 "metadata": {
  "kernelspec": {
   "display_name": "covid",
   "language": "python",
   "name": "covid"
  },
  "language_info": {
   "codemirror_mode": {
    "name": "ipython",
    "version": 3
   },
   "file_extension": ".py",
   "mimetype": "text/x-python",
   "name": "python",
   "nbconvert_exporter": "python",
   "pygments_lexer": "ipython3",
   "version": "3.13.5"
  }
 },
 "nbformat": 4,
 "nbformat_minor": 5
}
