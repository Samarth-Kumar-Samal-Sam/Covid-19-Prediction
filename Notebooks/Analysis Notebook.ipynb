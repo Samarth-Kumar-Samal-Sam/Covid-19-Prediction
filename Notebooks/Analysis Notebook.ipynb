{
 "cells": [
  {
   "cell_type": "markdown",
   "id": "482ba4d9-7fe0-4c54-9346-427f74a8b6a4",
   "metadata": {},
   "source": [
    "#### Importing Python Libraries"
   ]
  },
  {
   "cell_type": "code",
   "execution_count": null,
   "id": "0710a04c-d91f-464e-a6d3-224c53b7a40d",
   "metadata": {},
   "outputs": [],
   "source": [
    "import numpy as np\n",
    "import pandas as pd\n",
    "import matplotlib.pyplot as plt\n",
    "import seaborn as sns\n",
    "import plotly.express as px\n",
    "import warnings\n",
    "warnings.filterwarnings('ignore')"
   ]
  },
  {
   "cell_type": "markdown",
   "id": "dea8091f-1862-4118-b1ec-267bc374c6a0",
   "metadata": {},
   "source": [
    "#### Loading the dataset"
   ]
  },
  {
   "cell_type": "code",
   "execution_count": null,
   "id": "4f0163e2-4b4b-4141-9d25-057951ab1a66",
   "metadata": {},
   "outputs": [],
   "source": [
    "data = pd.read_csv(r'../Dataset/covid-19.csv')\n",
    "data.sample(10)"
   ]
  },
  {
   "cell_type": "markdown",
   "id": "91b3f077-69f5-4d26-a830-f2b3842109fc",
   "metadata": {},
   "source": [
    "#### Dropping th unwanted columns from the dataset"
   ]
  },
  {
   "cell_type": "code",
   "execution_count": null,
   "id": "cb41805f-b143-4f69-8cf2-24c8102bbd35",
   "metadata": {},
   "outputs": [],
   "source": [
    "data.drop(columns=['Unnamed: 0'],inplace=True)\n",
    "data.sample(10)"
   ]
  },
  {
   "cell_type": "markdown",
   "id": "f9c4a114-3b66-48d1-83c9-e628f88103c3",
   "metadata": {},
   "source": [
    "#### Displaying the complete details of the dataset"
   ]
  },
  {
   "cell_type": "code",
   "execution_count": null,
   "id": "e242b2e0-6fb3-4ba8-8ae9-0bb80744cf99",
   "metadata": {},
   "outputs": [],
   "source": [
    "data.info()"
   ]
  },
  {
   "cell_type": "markdown",
   "id": "e08f83ff-f311-4a4a-adaf-7235c071f5c0",
   "metadata": {},
   "source": [
    "#### Displaying the complete statistical details of the dataset"
   ]
  },
  {
   "cell_type": "code",
   "execution_count": null,
   "id": "1d447a29-8e91-40b9-bf21-a58799194311",
   "metadata": {},
   "outputs": [],
   "source": [
    "data.describe(include='all')"
   ]
  },
  {
   "cell_type": "markdown",
   "id": "a33bf242-7921-4a10-ac9e-a71180fd3bf2",
   "metadata": {},
   "source": [
    "#### Converting the Date column from object type to datetime type"
   ]
  },
  {
   "cell_type": "code",
   "execution_count": null,
   "id": "d4bfd8c4-cc54-401f-83d4-7d323e02d723",
   "metadata": {},
   "outputs": [],
   "source": [
    "data['Date'] = pd.to_datetime(data['Date'])\n",
    "data.info()"
   ]
  },
  {
   "cell_type": "markdown",
   "id": "3d98ff15-e2b7-433c-b4d1-49a9d43f2c59",
   "metadata": {},
   "source": [
    "#### Displaying the number of rows and columns of the dataset"
   ]
  },
  {
   "cell_type": "code",
   "execution_count": null,
   "id": "0acd1c9e-4437-4073-874f-c520e6b6ec32",
   "metadata": {},
   "outputs": [],
   "source": [
    "print(f\"Number of rows of the dataset : {data.shape[0]}\")\n",
    "print(f\"Number of columns of the dataset : {data.shape[1]}\")"
   ]
  },
  {
   "cell_type": "markdown",
   "id": "f81ff15c-5930-4a3f-93fd-bc45ad81b9a2",
   "metadata": {},
   "source": [
    "#### Checking if any duplicates exist or not"
   ]
  },
  {
   "cell_type": "code",
   "execution_count": null,
   "id": "4757bcb6-bf80-4183-b93d-44ff713e6c3c",
   "metadata": {},
   "outputs": [],
   "source": [
    "print(data.duplicated().sum())"
   ]
  },
  {
   "cell_type": "markdown",
   "id": "0c2ca0c9-3c0d-4443-803f-654f62c83944",
   "metadata": {},
   "source": [
    "#### Plotting the confirmed cases with respect to time in world map"
   ]
  },
  {
   "cell_type": "code",
   "execution_count": null,
   "id": "173112b5-af7f-414f-9082-087c427b8ec0",
   "metadata": {},
   "outputs": [],
   "source": [
    "fig = px.choropleth(data,locations='Country',locationmode='country names',color='Confirmed',animation_frame='Date',color_continuous_scale='RdBu')\n",
    "fig.update_layout(title='Chloropleth Map for the total number of Confirmed Covid-19 Cases around the world')\n",
    "fig.layout.updatemenus[0].buttons[0].args[1]['frame']['duration'] = 0.1\n",
    "fig.show()"
   ]
  },
  {
   "cell_type": "markdown",
   "id": "79612796-e924-428b-a0a7-8d6068dd6c1f",
   "metadata": {},
   "source": [
    "#### Plotting the recovered cases with respect to time in world map"
   ]
  },
  {
   "cell_type": "code",
   "execution_count": null,
   "id": "d9e438bb-fde9-4e3b-9d7b-ff9b1993a869",
   "metadata": {},
   "outputs": [],
   "source": [
    "fig = px.choropleth(data,locations='Country',locationmode='country names',color='Recovered',animation_frame='Date',color_continuous_scale='RdBu')\n",
    "fig.update_layout(title='Chloropleth Map for the total number of Recovered Covid-19 Cases around the world')\n",
    "fig.layout.updatemenus[0].buttons[0].args[1]['frame']['duration'] = 0.1\n",
    "fig.show()"
   ]
  },
  {
   "cell_type": "markdown",
   "id": "ddf3b3d9-e6ca-4276-b687-958710503b6d",
   "metadata": {},
   "source": [
    "#### Plotting the death cases with respect to time in world map"
   ]
  },
  {
   "cell_type": "code",
   "execution_count": null,
   "id": "7f6c6c0a-a532-4b39-81ec-97dc9fdd7d2f",
   "metadata": {},
   "outputs": [],
   "source": [
    "fig = px.choropleth(data,locations='Country',locationmode='country names',color='Deaths',animation_frame='Date',color_continuous_scale='RdBu')\n",
    "fig.update_layout(title='Chloropleth Map for the total number of Death Covid-19 Cases around the world')\n",
    "fig.layout.updatemenus[0].buttons[0].args[1]['frame']['duration'] = 0.1\n",
    "fig.show()"
   ]
  },
  {
   "cell_type": "markdown",
   "id": "a4a4a01b-0c6f-41d6-b642-ead5f22688ae",
   "metadata": {},
   "source": [
    "#### Plotting the confirmed cases with respect to time in Asia"
   ]
  },
  {
   "cell_type": "code",
   "execution_count": null,
   "id": "d52e9a9e-287d-49ca-a3b8-09d5af34fa3e",
   "metadata": {},
   "outputs": [],
   "source": [
    "fig = px.choropleth(data,locations='Country',locationmode='country names',color='Confirmed',animation_frame='Date',color_continuous_scale='RdBu',scope='asia')\n",
    "fig.update_layout(title='Chloropleth Map for the total number of Confirmed Covid-19 Cases around Asia')\n",
    "fig.layout.updatemenus[0].buttons[0].args[1]['frame']['duration'] = 0.1\n",
    "fig.show()"
   ]
  },
  {
   "cell_type": "markdown",
   "id": "ed9f27b4-cb8f-4f0b-99b3-4a9df83ceec7",
   "metadata": {},
   "source": [
    "#### Plotting the recovered cases with respect to time in Asia"
   ]
  },
  {
   "cell_type": "code",
   "execution_count": null,
   "id": "66e27745-4808-40a6-bfca-5c1d4df4cf9b",
   "metadata": {},
   "outputs": [],
   "source": [
    "fig = px.choropleth(data,locations='Country',locationmode='country names',color='Recovered',animation_frame='Date',color_continuous_scale='RdBu',scope='asia')\n",
    "fig.update_layout(title='Chloropleth Map for the total number of Recovered Covid-19 Cases around Asia')\n",
    "fig.layout.updatemenus[0].buttons[0].args[1]['frame']['duration'] = 0.1\n",
    "fig.show()"
   ]
  },
  {
   "cell_type": "markdown",
   "id": "c8055fcd-b2a6-4e3f-8a40-f77778cf7c64",
   "metadata": {},
   "source": [
    "#### Plotting the death cases with respect to time in Asia"
   ]
  },
  {
   "cell_type": "code",
   "execution_count": null,
   "id": "4e392264-8fc0-4712-9a03-531b958221f9",
   "metadata": {},
   "outputs": [],
   "source": [
    "fig = px.choropleth(data,locations='Country',locationmode='country names',color='Deaths',animation_frame='Date',color_continuous_scale='RdBu',scope='asia')\n",
    "fig.update_layout(title='Chloropleth Map for the total number of Death Covid-19 Cases around Asia')\n",
    "fig.layout.updatemenus[0].buttons[0].args[1]['frame']['duration'] = 0.1\n",
    "fig.show()"
   ]
  },
  {
   "cell_type": "markdown",
   "id": "41f1d8a4-6c86-45a4-ba55-f6a1275026e5",
   "metadata": {},
   "source": [
    "#### Finding and plotting the top 5 countries having maximum number of Covid-19 Death Cases"
   ]
  },
  {
   "cell_type": "code",
   "execution_count": null,
   "id": "fcb2dda6-a5e0-4b7a-b88d-eedf631d4bfe",
   "metadata": {},
   "outputs": [],
   "source": [
    "death_by_country = data.groupby('Country')['Deaths'].sum()\n",
    "desc = death_by_country.sort_values(ascending=False)\n",
    "country_list = [desc.index[i] for i in range(5)]\n",
    "country_list"
   ]
  },
  {
   "cell_type": "code",
   "execution_count": null,
   "id": "d5cdaac4-c997-4e0e-9d5b-12bad6663ef8",
   "metadata": {},
   "outputs": [],
   "source": [
    "filtered_data = data[data['Country'].isin(country_list)]\n",
    "filtered_data"
   ]
  },
  {
   "cell_type": "code",
   "execution_count": null,
   "id": "17390108-7756-4ea0-9f8f-12a1c75dbf33",
   "metadata": {},
   "outputs": [],
   "source": [
    "fig = px.bar(filtered_data,x=\"Country\",y=\"Deaths\",color=\"Country\",animation_frame=\"Date\",title=\"Death Cases of top 5 countries\",range_y=[0,filtered_data['Deaths'].max()+100000])\n",
    "fig.layout.updatemenus[0].buttons[0].args[1][\"frame\"][\"duration\"] = 0.5\n",
    "fig.show()"
   ]
  },
  {
   "cell_type": "markdown",
   "id": "a59ba982-a39b-4553-a718-6e14af961846",
   "metadata": {},
   "source": [
    "#### Finding and plotting the top 5 countries having maximum number of Covid-19 Confirmed Cases"
   ]
  },
  {
   "cell_type": "code",
   "execution_count": null,
   "id": "61d25286-c70d-4d1f-a2a2-c8c45cf98089",
   "metadata": {},
   "outputs": [],
   "source": [
    "confirmed_by_country = data.groupby('Country')['Confirmed'].sum()\n",
    "desc = confirmed_by_country.sort_values(ascending=False)\n",
    "country_list = [desc.index[i] for i in range(5)]\n",
    "country_list"
   ]
  },
  {
   "cell_type": "code",
   "execution_count": null,
   "id": "a60ea799-5e80-4f45-9592-ad8e28b692b3",
   "metadata": {},
   "outputs": [],
   "source": [
    "filtered_data = data[data['Country'].isin(country_list)]\n",
    "filtered_data"
   ]
  },
  {
   "cell_type": "code",
   "execution_count": null,
   "id": "7c026b95-ea35-4ff6-b0bd-f408bfbd9a86",
   "metadata": {},
   "outputs": [],
   "source": [
    "fig = px.bar(filtered_data,x=\"Country\",y=\"Confirmed\",color=\"Country\",animation_frame=\"Date\",title=\"Confirmed Cases of top 5 countries\",range_y=[0,filtered_data['Confirmed'].max()+2000000])\n",
    "fig.layout.updatemenus[0].buttons[0].args[1][\"frame\"][\"duration\"] = 0.5\n",
    "fig.show()"
   ]
  },
  {
   "cell_type": "markdown",
   "id": "7a368fad-5ded-4d56-8d79-a6b07f8d7cdd",
   "metadata": {},
   "source": [
    "#### Finding and plotting the top 5 countries having maximum number of Covid-19 Recovered Cases"
   ]
  },
  {
   "cell_type": "code",
   "execution_count": null,
   "id": "c4e7ce51-9a31-479b-b830-3063256d8558",
   "metadata": {},
   "outputs": [],
   "source": [
    "recover_by_country = data.groupby('Country')['Recovered'].sum()\n",
    "desc = recover_by_country.sort_values(ascending=False)\n",
    "country_list = [desc.index[i] for i in range(5)]\n",
    "country_list"
   ]
  },
  {
   "cell_type": "code",
   "execution_count": null,
   "id": "68a738dd-192f-438d-b0d4-aa819c95e4e7",
   "metadata": {},
   "outputs": [],
   "source": [
    "filtered_data = data[data['Country'].isin(country_list)]\n",
    "filtered_data"
   ]
  },
  {
   "cell_type": "code",
   "execution_count": null,
   "id": "94ef66e9-08cf-4a10-97a2-ff0e76ed5c3f",
   "metadata": {},
   "outputs": [],
   "source": [
    "fig = px.bar(filtered_data,x=\"Country\",y=\"Recovered\",color=\"Country\",animation_frame=\"Date\",title=\"Recovered Cases of top 5 countries\",range_y=[0,filtered_data['Recovered'].max()+100000])\n",
    "fig.layout.updatemenus[0].buttons[0].args[1][\"frame\"][\"duration\"] = 0.5\n",
    "fig.show()"
   ]
  },
  {
   "cell_type": "markdown",
   "id": "c515dcfd-875f-402d-bf50-cdf2b4daec8d",
   "metadata": {},
   "source": [
    "#### Plotting the top 10 most affected countries with Confirmed Cases percentage"
   ]
  },
  {
   "cell_type": "code",
   "execution_count": null,
   "id": "6831069d-c240-45c1-a156-d9616cc85db1",
   "metadata": {},
   "outputs": [],
   "source": [
    "confirmed_by_country = data.groupby('Country')['Confirmed'].sum()\n",
    "desc = confirmed_by_country.sort_values(ascending=False)\n",
    "country_list = [desc.index[i] for i in range(10)]\n",
    "country_list\n",
    "\n",
    "filtered_data = data[data['Country'].isin(country_list)]\n",
    "filtered_data\n",
    "\n",
    "fig=px.pie(filtered_data,values='Confirmed',names='Country',title=\"Percentage of Total Confirmed Cases in 10 most affect countries\")\n",
    "fig.show()"
   ]
  },
  {
   "cell_type": "markdown",
   "id": "a738e614-1a91-45c1-9bc5-49b73bc12138",
   "metadata": {},
   "source": [
    "#### Plotting the top 10 most affected countries with Recovered Cases percentage"
   ]
  },
  {
   "cell_type": "code",
   "execution_count": null,
   "id": "a105ae1c-d3de-4a10-b111-8e62540bfb15",
   "metadata": {},
   "outputs": [],
   "source": [
    "recovered_by_country = data.groupby('Country')['Recovered'].sum()\n",
    "desc = recovered_by_country.sort_values(ascending=False)\n",
    "country_list = [desc.index[i] for i in range(10)]\n",
    "country_list\n",
    "\n",
    "filtered_data = data[data['Country'].isin(country_list)]\n",
    "filtered_data\n",
    "\n",
    "fig=px.pie(filtered_data,values='Recovered',names='Country',title=\"Percentage of Total Recovered Cases in 10 most affect countries\")\n",
    "fig.show()"
   ]
  },
  {
   "cell_type": "markdown",
   "id": "6aa7c4d9-1702-4768-9524-060ccc141930",
   "metadata": {},
   "source": [
    "#### Plotting the top 10 most affected countries with Death Cases percentage"
   ]
  },
  {
   "cell_type": "code",
   "execution_count": null,
   "id": "cd4a8b26-e5d0-46b4-a224-beae464226d2",
   "metadata": {},
   "outputs": [],
   "source": [
    "deaths_by_country = data.groupby('Country')['Deaths'].sum()\n",
    "desc = deaths_by_country.sort_values(ascending=False)\n",
    "country_list = [desc.index[i] for i in range(10)]\n",
    "country_list\n",
    "\n",
    "filtered_data = data[data['Country'].isin(country_list)]\n",
    "filtered_data\n",
    "\n",
    "fig=px.pie(filtered_data,values='Deaths',names='Country',title=\"Percentage of Total Death Cases in 10 most affect countries\")\n",
    "fig.show()"
   ]
  }
 ],
 "metadata": {
  "kernelspec": {
   "display_name": "covid",
   "language": "python",
   "name": "covid"
  },
  "language_info": {
   "codemirror_mode": {
    "name": "ipython",
    "version": 3
   },
   "file_extension": ".py",
   "mimetype": "text/x-python",
   "name": "python",
   "nbconvert_exporter": "python",
   "pygments_lexer": "ipython3",
   "version": "3.13.5"
  }
 },
 "nbformat": 4,
 "nbformat_minor": 5
}
